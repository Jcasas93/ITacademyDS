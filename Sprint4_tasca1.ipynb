{
 "cells": [
  {
   "cell_type": "markdown",
   "metadata": {},
   "source": [
    "<h1><u>Sprint 4</u> : Visualización gráfica de datos </h1> \n",
    "\n",
    "<h1><b>Tasca 01 </b></h1>\n",
    "\n",
    "<h3>Utilizando las bibliotecas de visualización de datos Matplotlib o Seaborn, realiza los siguientes ejercicios.</h3>\n",
    "\n",
    "<h2>Ejercicio 1</h2>\n",
    "<b><u>Instrucción</u></b> Descarga el dataset adjunto precio alquiler por trimestre y barri.csv  extraído de la web OpenDataBCN y resume estadísticamente y gráficamente.\n",
    "\n",
    "Crea al menos una visualización para:\n",
    "\n",
    "- Una variable categórica (Distrito o Barrio)\n",
    "- Una variable numérica (Precio)\n",
    "- Una variable numérica y una categórica (Distrito y Precio)\n",
    "- Dos variables numéricas (Año o Trimestre y Precio)\n",
    "- Tres variables (Barrio o Distrito, Trimestre y Precio)"
   ]
  },
  {
   "cell_type": "code",
   "execution_count": null,
   "metadata": {
    "vscode": {
     "languageId": "plaintext"
    }
   },
   "outputs": [],
   "source": []
  },
  {
   "cell_type": "markdown",
   "metadata": {},
   "source": [
    "<h2>Ejercicio 2</h2>\n",
    "<b><u>Instrucción</u></b> Exporta los gráficos como imágenes o HTML"
   ]
  },
  {
   "cell_type": "code",
   "execution_count": null,
   "metadata": {
    "vscode": {
     "languageId": "plaintext"
    }
   },
   "outputs": [],
   "source": []
  },
  {
   "cell_type": "markdown",
   "metadata": {},
   "source": [
    "<h2>Ejercicio 3</h2>\n",
    "<b><u>Instrucción</u></b> Proponer alguna visualización que creas que puede resultar interesante."
   ]
  },
  {
   "cell_type": "code",
   "execution_count": null,
   "metadata": {
    "vscode": {
     "languageId": "plaintext"
    }
   },
   "outputs": [],
   "source": []
  }
 ],
 "metadata": {
  "language_info": {
   "name": "python"
  }
 },
 "nbformat": 4,
 "nbformat_minor": 2
}
