{
 "cells": [
  {
   "cell_type": "markdown",
   "metadata": {},
   "source": [
    "<h1><u>Iteración 2</u> : Básicos de Python Tasca 01 </h1> "
   ]
  },
  {
   "cell_type": "markdown",
   "metadata": {},
   "source": [
    "<h2>Ejercicio 1</h2>\n",
    "<b><u>Instrucción</u></b> Crea una lista que agrupe los meses del año en trimestres (1T: enero, febrero y marzo; 2T: abril, mayo, junio...), es decir, una lista con 4 listas dentro."
   ]
  },
  {
   "cell_type": "code",
   "execution_count": 6,
   "metadata": {},
   "outputs": [
    {
     "name": "stdout",
     "output_type": "stream",
     "text": [
      "[['Enero', 'Febrero', 'Marzo'], ['Abril', 'Mayo', 'Junio'], ['Julio', 'Agosto', 'Septiembre'], ['Octubre', 'Noviembre', 'Diciembre']]\n"
     ]
    }
   ],
   "source": [
    "Trimestres = [[\"Enero\",\"Febrero\",\"Marzo\"],[\"Abril\",\"Mayo\",\"Junio\"],[\"Julio\",\"Agosto\",\"Septiembre\"],[\"Octubre\",\"Noviembre\",\"Diciembre\"]];\n",
    "print(Trimestres)"
   ]
  },
  {
   "cell_type": "markdown",
   "metadata": {},
   "source": [
    "<h2>Ejercicio 2</h2>\n",
    "<b><u>Instrucción</u></b> Crea un código que te permita acceder a :\n",
    "El segundo mes del primer trimestre."
   ]
  },
  {
   "cell_type": "code",
   "execution_count": 7,
   "metadata": {},
   "outputs": [
    {
     "data": {
      "text/plain": [
       "'Febrero'"
      ]
     },
     "execution_count": 7,
     "metadata": {},
     "output_type": "execute_result"
    }
   ],
   "source": [
    "Trimestres[0][1]"
   ]
  },
  {
   "cell_type": "markdown",
   "metadata": {},
   "source": [
    "Los meses del primer trimestre"
   ]
  },
  {
   "cell_type": "code",
   "execution_count": 8,
   "metadata": {},
   "outputs": [
    {
     "data": {
      "text/plain": [
       "['Enero', 'Febrero', 'Marzo']"
      ]
     },
     "execution_count": 8,
     "metadata": {},
     "output_type": "execute_result"
    }
   ],
   "source": [
    "Trimestres[0]"
   ]
  },
  {
   "cell_type": "markdown",
   "metadata": {},
   "source": [
    "Septiembre y Octubre"
   ]
  },
  {
   "cell_type": "code",
   "execution_count": 10,
   "metadata": {},
   "outputs": [
    {
     "data": {
      "text/plain": [
       "['Septiembre', 'Octubre']"
      ]
     },
     "execution_count": 10,
     "metadata": {},
     "output_type": "execute_result"
    }
   ],
   "source": [
    "[Trimestres[-2][-1],Trimestres[-1][0]]"
   ]
  },
  {
   "cell_type": "markdown",
   "metadata": {},
   "source": [
    "<h2>Ejercicio 3</h2>\n",
    "<b><u>Instrucción</u></b> Crea una lista con números desordenados y responde a las siguientes preguntas:\n",
    "\n",
    "\n",
    "-  ¿Cuántos números hay?\n",
    "-  Cuántas veces aparece el número 3.\n",
    "-  ¿Cuántas veces aparecen los números 3 y 4?\n",
    "-  ¿Cuál es el mayor número?\n",
    "-  ¿Cuáles son los 3 números más pequeños?\n",
    "-  ¿Cuál es el rango de esa lista?"
   ]
  },
  {
   "cell_type": "code",
   "execution_count": 26,
   "metadata": {},
   "outputs": [],
   "source": [
    "Lista_caos = [1,4,7,2,5,7,0,3,-4,4,22,5,77,-3,5]"
   ]
  },
  {
   "cell_type": "markdown",
   "metadata": {},
   "source": [
    "¿Cuántos números hay?"
   ]
  },
  {
   "cell_type": "code",
   "execution_count": 16,
   "metadata": {},
   "outputs": [
    {
     "name": "stdout",
     "output_type": "stream",
     "text": [
      "En la Lista 'Lista_caos' hay 11 números.\n"
     ]
    }
   ],
   "source": [
    "print(\"En la Lista 'Lista_caos' hay \" + str(len(Lista_caos)) + \" números.\")"
   ]
  },
  {
   "cell_type": "markdown",
   "metadata": {},
   "source": [
    "Cuántas veces aparece el número 3."
   ]
  },
  {
   "cell_type": "code",
   "execution_count": 29,
   "metadata": {},
   "outputs": [
    {
     "name": "stdout",
     "output_type": "stream",
     "text": [
      "El número 3 aparece 1 ve(z)/(ces) en la Lista con números desordenados.\n"
     ]
    }
   ],
   "source": [
    "Lista_3 = [x for x in Lista_caos if x==3]\n",
    "print(\"El número 3 aparece \"+str(len(Lista_3))+\" ve(z)/(ces) en la Lista con números desordenados.\")"
   ]
  },
  {
   "cell_type": "markdown",
   "metadata": {},
   "source": [
    "¿Cuántas veces aparecen los números 3 y 4?"
   ]
  },
  {
   "cell_type": "code",
   "execution_count": 30,
   "metadata": {},
   "outputs": [
    {
     "name": "stdout",
     "output_type": "stream",
     "text": [
      "El número 3 aparece 1 vez(ces) y el número 4 aparece 2 vez(ces).\n"
     ]
    }
   ],
   "source": [
    "Lista_4 = [x for x in Lista_caos if x==4]\n",
    "print(\"El número 3 aparece \"+str(len(Lista_3)) + \" vez(ces) y el número 4 aparece \"+str(len(Lista_4)) + \" vez(ces).\")"
   ]
  },
  {
   "cell_type": "markdown",
   "metadata": {},
   "source": [
    "¿Cuál es el mayor número?"
   ]
  },
  {
   "cell_type": "code",
   "execution_count": 83,
   "metadata": {},
   "outputs": [
    {
     "name": "stdout",
     "output_type": "stream",
     "text": [
      "El mayor número de esta lista es el 77\n"
     ]
    }
   ],
   "source": [
    "Lista_caos.sort();\n",
    "print(\"El mayor número de esta lista es el \" + str(Lista_caos[-1]))"
   ]
  },
  {
   "cell_type": "markdown",
   "metadata": {},
   "source": [
    "¿Cuáles son los 3 números más pequeños?"
   ]
  },
  {
   "cell_type": "code",
   "execution_count": 81,
   "metadata": {},
   "outputs": [
    {
     "name": "stdout",
     "output_type": "stream",
     "text": [
      "Los 3 números más pequeños de esta lista son los siguientes: [-4, -3, 0]\n"
     ]
    }
   ],
   "source": [
    "print(\"Los 3 números más pequeños de esta lista son los siguientes: \" + str(Lista_caos[:3]))"
   ]
  },
  {
   "cell_type": "markdown",
   "metadata": {},
   "source": [
    "¿Cuál es el rango de esta lista?"
   ]
  },
  {
   "cell_type": "code",
   "execution_count": 80,
   "metadata": {},
   "outputs": [
    {
     "name": "stdout",
     "output_type": "stream",
     "text": [
      "El rango de esta lista es de 81\n"
     ]
    }
   ],
   "source": [
    "rango = Lista_caos[-1]-Lista_caos[0]\n",
    "print(\"El rango de esta lista es de \" + str(rango))"
   ]
  },
  {
   "cell_type": "markdown",
   "metadata": {},
   "source": [
    "<h2>Ejercicio 4</h2>\n",
    "<b><u>Instrucción</u></b> Crea un diccionario de la siguiente forma y responde a las siguientes preguntas:\n",
    "\n",
    "<img src=\"Frutas_E04.png\">"
   ]
  },
  {
   "cell_type": "markdown",
   "metadata": {},
   "source": [
    "1.- Añadir una fruta al diccionario"
   ]
  },
  {
   "cell_type": "code",
   "execution_count": 180,
   "metadata": {},
   "outputs": [
    {
     "name": "stdout",
     "output_type": "stream",
     "text": [
      "Manzanas {'Qty': 5, '$': 0.42}\n",
      "Peras {'Qty': 3, '$': 0.66}\n",
      "Platanos {'Qty': 12, '$': 0.72}\n"
     ]
    }
   ],
   "source": [
    "compra = {\"Manzanas\": {\"Qty\":5,\"$\":0.42},\"Peras\":{\"Qty\":3,\"$\":0.66}};\n",
    "#Añadimos una fruta\n",
    "compra[\"Platanos\"]= {\"Qty\":12,\"$\":0.72}\n",
    "for x,y in compra.items():\n",
    "    print(x,y)"
   ]
  },
  {
   "cell_type": "markdown",
   "metadata": {},
   "source": [
    "¿Cuánto han costado las Peras en total?"
   ]
  },
  {
   "cell_type": "code",
   "execution_count": 92,
   "metadata": {},
   "outputs": [
    {
     "name": "stdout",
     "output_type": "stream",
     "text": [
      "En total las Peras costaron 1.98 euros.\n"
     ]
    }
   ],
   "source": [
    "print(\"En total las Peras costaron \" + str(compra[\"Peras\"].get(\"Qty\")*compra[\"Peras\"].get(\"$\")) + \" euros.\" )"
   ]
  },
  {
   "cell_type": "markdown",
   "metadata": {},
   "source": [
    "¿Cuántas frutas hemos comprado en total?"
   ]
  },
  {
   "cell_type": "code",
   "execution_count": 75,
   "metadata": {},
   "outputs": [
    {
     "name": "stdout",
     "output_type": "stream",
     "text": [
      "En total hemos comprado 20 frutas.\n"
     ]
    }
   ],
   "source": [
    "print(\"En total hemos comprado \"+ str(compra[\"Manzanas\"].get(\"Qty\")+compra[\"Peras\"].get(\"Qty\")+compra[\"Platanos\"].get(\"Qty\")) + \" frutas.\")"
   ]
  },
  {
   "cell_type": "markdown",
   "metadata": {},
   "source": [
    "¿Cuál es la fruta más cara?"
   ]
  },
  {
   "cell_type": "code",
   "execution_count": 183,
   "metadata": {},
   "outputs": [
    {
     "name": "stdout",
     "output_type": "stream",
     "text": [
      "La futa más cara son l@s Platanos con un valor de 0.72 euros la unidad.\n"
     ]
    }
   ],
   "source": [
    "k= 'Qty'\n",
    "i= '$'\n",
    "\n",
    "max_val = float('-inf')\n",
    "res=None\n",
    "\n",
    "for x,y in compra.items():\n",
    "    if k in y.keys() and y[i]>max_val:\n",
    "        max_val=y[i]\n",
    "        res=x\n",
    "print(\"La futa más cara son l@s \"+ str(res) +\" con un valor de \"+ str(max_val)+\" euros la unidad.\")\n"
   ]
  }
 ],
 "metadata": {
  "kernelspec": {
   "display_name": "Python 3",
   "language": "python",
   "name": "python3"
  },
  "language_info": {
   "codemirror_mode": {
    "name": "ipython",
    "version": 3
   },
   "file_extension": ".py",
   "mimetype": "text/x-python",
   "name": "python",
   "nbconvert_exporter": "python",
   "pygments_lexer": "ipython3",
   "version": "3.11.5"
  },
  "orig_nbformat": 4
 },
 "nbformat": 4,
 "nbformat_minor": 2
}
