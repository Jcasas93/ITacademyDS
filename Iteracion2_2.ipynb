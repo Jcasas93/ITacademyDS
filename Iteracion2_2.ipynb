{
 "cells": [
  {
   "cell_type": "markdown",
   "metadata": {},
   "source": [
    "<h1><u>Iteración 2</u> : Básicos de Python Tasca 02 </h1> "
   ]
  },
  {
   "cell_type": "markdown",
   "metadata": {},
   "source": [
    "<h2>Ejercicio 1</h2>\n",
    "<b><u>Instrucción</u></b> El ejercicio consiste en crear una función que te clasifique una variable numérica en función de la escala Suspendido/Aprobado/Notable/Excelente.\n",
    "\n",
    "Recuerda que Suspendido < 5, Aprobado > 5 y < 7, Notable > 7 y < 9 y Excelente > 9."
   ]
  },
  {
   "cell_type": "code",
   "execution_count": 11,
   "metadata": {},
   "outputs": [
    {
     "name": "stdout",
     "output_type": "stream",
     "text": [
      "Con una calificación de: 3.0 el alumno se encuentra \n",
      "Suspendido\n"
     ]
    }
   ],
   "source": [
    "ye=float(input(\"Ingresa tu calificación: \"));\n",
    "print(\"Con una calificación de \"+ str(ye) + \" el alumno se encuentra \")\n",
    "def estatus_escolar(x):\n",
    "    if x<5:\n",
    "        print(\"Suspendido\")\n",
    "    elif x<7:\n",
    "        print(\"Aprobado\")\n",
    "    elif x<9:\n",
    "        print(\"Notable\")\n",
    "    else : \n",
    "        print(\"Excelente\")\n",
    "estatus_escolar(ye)"
   ]
  },
  {
   "cell_type": "markdown",
   "metadata": {},
   "source": [
    "\n",
    "<h2>Ejercicio 2</h2>\n",
    "<b><u>Instrucción</u></b> Usando el siguiente tutorial crea una función que te pregunte dos números. Debe mostrarte un mensaje diciendo si el primero es mayor, el segundo es mayor o son iguales."
   ]
  },
  {
   "cell_type": "code",
   "execution_count": 17,
   "metadata": {},
   "outputs": [
    {
     "name": "stdout",
     "output_type": "stream",
     "text": [
      "1.0 es menor que 56.0\n"
     ]
    }
   ],
   "source": [
    "a,b = input(\"Ingresa dos valores para compararlos con un espacio de separación\").split()\n",
    "x_float=float(a)\n",
    "y_float=float(b)\n",
    "def quien_mayor(x,y):\n",
    "    if x<y:\n",
    "        print(str(x)+\" es menor que \"+str(y))\n",
    "    elif x==y:\n",
    "        print(str(x)+\" es igual a \"+str(y))\n",
    "    else:\n",
    "        print(str(x)+\" es mayor que \"+str(y))\n",
    "\n",
    "quien_mayor(x_float,y_float)"
   ]
  },
  {
   "cell_type": "markdown",
   "metadata": {},
   "source": [
    "\n",
    "<h2>Ejercicio 3</h2>\n",
    "<b><u>Instrucción</u></b> Crea una función que te pregunte tu nombre, y pida un número. Si el número es 0, debería mostrar un mensaje de error. De lo contrario, debería mostrar el nombre repetido tantas veces como indique el número. Por ejemplo, \"Joan Joan Joan\"."
   ]
  },
  {
   "cell_type": "code",
   "execution_count": 19,
   "metadata": {},
   "outputs": [
    {
     "name": "stdout",
     "output_type": "stream",
     "text": [
      "juan juan juan \n"
     ]
    }
   ],
   "source": [
    "name, times = input(\"Ingresa tu nombre y un número entero de preferencia no negativo:\").split()\n",
    "times_int=int(times)\n",
    "def nom_num(nombre,numero):\n",
    "    if numero==0:\n",
    "        print(\"Este es un mensaje de error.\")\n",
    "    elif numero-int(numero)!=0:\n",
    "        print(\"Debes ingresar un número entero.\")\n",
    "    elif numero<0:\n",
    "        print(\"No podemos imprimir tu nombre un número negativo de veces.\")\n",
    "    else:\n",
    "        print((nombre+\" \")*numero)\n",
    "\n",
    "nom_num(name,times_int)"
   ]
  },
  {
   "cell_type": "markdown",
   "metadata": {},
   "source": [
    "\n",
    "<h2>Ejercicio 4</h2>\n",
    "<b><u>Instrucción</u></b> Crea una función que dada una lista cualquiera, te diga si es simétrica o no. Si lo es, que te diga cuántos elementos tiene."
   ]
  },
  {
   "cell_type": "code",
   "execution_count": 42,
   "metadata": {},
   "outputs": [
    {
     "name": "stdout",
     "output_type": "stream",
     "text": [
      "Esta lista es simétrica.\n"
     ]
    }
   ],
   "source": [
    "def simetr_list(lista):\n",
    "    a=0\n",
    "    for i in range(len(lista)):\n",
    "        if lista[i]==lista[-(1+i)]:\n",
    "            a=a\n",
    "        else:\n",
    "            a=a+1\n",
    "    if a==0:\n",
    "        print(\"Esta lista es simétrica.\")\n",
    "    else:\n",
    "        print(\"Esta lista no es simétrica.\")\n",
    "\n",
    "simetr_list([1,2,3,3,2,1])"
   ]
  },
  {
   "cell_type": "markdown",
   "metadata": {},
   "source": [
    "\n",
    "<h2>Ejercicio 5</h2>\n",
    "<b><u>Instrucción</u></b> Crea una función que dada una lista, te diga cuántos números coinciden con su posición. Por ejemplo [3,4,2,0,2,3,6] el 2 y el 6 coinciden."
   ]
  },
  {
   "cell_type": "code",
   "execution_count": 44,
   "metadata": {},
   "outputs": [
    {
     "name": "stdout",
     "output_type": "stream",
     "text": [
      "En esta lista hay 5 números que coinciden con su posición.\n"
     ]
    }
   ],
   "source": [
    "def coin_pos(lista):\n",
    "    n=0\n",
    "    for i in range(len(lista)):\n",
    "        if i==lista[i]:\n",
    "            n=n+1\n",
    "        else:\n",
    "            n=n\n",
    "    print(\"En esta lista hay \"+str(n)+\" números que coinciden con su posición.\")\n",
    "coin_pos([1,2,2,3,4,5,5,6,7,7,8,11,11,11,12,14])"
   ]
  }
 ],
 "metadata": {
  "kernelspec": {
   "display_name": "Python 3",
   "language": "python",
   "name": "python3"
  },
  "language_info": {
   "codemirror_mode": {
    "name": "ipython",
    "version": 3
   },
   "file_extension": ".py",
   "mimetype": "text/x-python",
   "name": "python",
   "nbconvert_exporter": "python",
   "pygments_lexer": "ipython3",
   "version": "3.11.6"
  },
  "orig_nbformat": 4
 },
 "nbformat": 4,
 "nbformat_minor": 2
}
