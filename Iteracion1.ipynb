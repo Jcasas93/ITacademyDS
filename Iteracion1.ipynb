{
 "cells": [
  {
   "cell_type": "markdown",
   "metadata": {},
   "source": [
    "<h1><u>Iteración 1</u> : Bases de datos relacionales (SQL) </h1> "
   ]
  },
  {
   "cell_type": "code",
   "execution_count": 1,
   "metadata": {
    "vscode": {
     "languageId": "shellscript"
    }
   },
   "outputs": [
    {
     "name": "stdout",
     "output_type": "stream",
     "text": [
      "Requirement already satisfied: mysql-connector-python in c:\\users\\juan\\appdata\\local\\packages\\pythonsoftwarefoundation.python.3.11_qbz5n2kfra8p0\\localcache\\local-packages\\python311\\site-packages (8.1.0)\n",
      "Requirement already satisfied: protobuf<=4.21.12,>=4.21.1 in c:\\users\\juan\\appdata\\local\\packages\\pythonsoftwarefoundation.python.3.11_qbz5n2kfra8p0\\localcache\\local-packages\\python311\\site-packages (from mysql-connector-python) (4.21.12)\n",
      "Note: you may need to restart the kernel to use updated packages.\n"
     ]
    }
   ],
   "source": [
    "pip install mysql-connector-python"
   ]
  },
  {
   "cell_type": "markdown",
   "metadata": {},
   "source": [
    "<h2>Ejercicio 1</h2>\n",
    "<b><u>Instrucción</u></b> A partir de los documentos adjuntos (estructura y datos), crea una base de datos con MySQL. Muestra las principales características del esquema creado y explica las diferentes tablas y variables existentes."
   ]
  },
  {
   "cell_type": "markdown",
   "metadata": {},
   "source": [
    "<img src=\"DiagramamovieIT1.png\">"
   ]
  },
  {
   "cell_type": "markdown",
   "metadata": {},
   "source": [
    "Podemos observar las distintas tablas del esquema movie y las variables de cada tabla. Este esquema o base de datos es utilizado para almacenar información de una serie de personas involucradas en la producción de películas, los roles que tuvieron en las distintas películas y el genero de las mismas.\n",
    "Para almacenar esta información se ocuparon 5 tablas; <b>tb_role, tb_genre, tb_move_person, tb_movie, tb_person.</b>\n",
    "Para relacionar las tablas entre sí, se ocupan variables o claves tanto primarias como foraneas. \n",
    "tb_person contiene la clave principal person_id relacionada a la clave foranea person_id de la tabla tb_movie_person.\n",
    "genre_id es la clave que relaciona las tablas tb_genre y tb_movie.\n",
    "tb_role tiene como clave principal role_id relacionada con role_id de la tabla tb_movie_person.\n",
    "tb_movie tiene como clave principal movie_id relacionada con movie_id de la tabla tb_movie_person.\n",
    "\n"
   ]
  },
  {
   "cell_type": "code",
   "execution_count": 2,
   "metadata": {},
   "outputs": [
    {
     "name": "stdout",
     "output_type": "stream",
     "text": [
      "('tb_genre',)\n",
      "('tb_movie',)\n",
      "('tb_movie_person',)\n",
      "('tb_person',)\n",
      "('tb_role',)\n"
     ]
    }
   ],
   "source": [
    "import mysql.connector\n",
    "\n",
    "mydb = mysql.connector.connect(\n",
    "  host=\"localhost\",\n",
    "  user=\"root\",\n",
    "  password=\"M1sqlserv5!_1\",\n",
    "  database=\"movies\"\n",
    ")\n",
    "\n",
    "mycursor = mydb.cursor()\n",
    "\n",
    "mycursor.execute(\"SHOW TABLES\")\n",
    "\n",
    "for x in mycursor:\n",
    "  print(x)\n",
    "#mycursor = mydb.cursor()\n",
    "\n",
    "#mycursor.execute(\"show DATABASES\")\n",
    "\n",
    "#for(x) in mycursor:\n",
    " # print(x)"
   ]
  },
  {
   "cell_type": "markdown",
   "metadata": {},
   "source": [
    "<h1>Ejercicio 2</h1>\n",
    "<b><u>Instrucción</u></b> Tienes que obtener el nombre, el país y la fecha de nacimiento de aquellas personas por las que no conste una fecha de muerte y ordenar los datos de la persona más vieja a la persona más joven."
   ]
  },
  {
   "cell_type": "code",
   "execution_count": 3,
   "metadata": {},
   "outputs": [
    {
     "name": "stdout",
     "output_type": "stream",
     "text": [
      "('John Williams', 'United States', datetime.date(1928, 8, 8))\n",
      "('Vera Miles', 'United States', datetime.date(1929, 8, 23))\n",
      "('Sean Connery', 'Scotland', datetime.date(1930, 7, 8))\n",
      "('Robert Duvall', 'United States', datetime.date(1931, 1, 5))\n",
      "('Morgan Freeman', 'United States', datetime.date(1935, 10, 1))\n",
      "('Francis Ford Coppola', 'United States', datetime.date(1939, 4, 7))\n",
      "('Gary Kurtz', 'United States', datetime.date(1940, 7, 27))\n",
      "('Martin Sheen', 'United States', datetime.date(1940, 8, 3))\n",
      "('Harrison Ford', 'United States', datetime.date(1942, 7, 13))\n",
      "('George Lucas', 'United States', datetime.date(1944, 5, 14))\n",
      "('Carmine Coppola', 'United States', datetime.date(1945, 7, 8))\n",
      "('Steven Spielberg', 'United States', datetime.date(1946, 12, 18))\n",
      "('Tim Robbins', 'United States', datetime.date(1949, 6, 7))\n",
      "('Mel Gibson', 'Australia', datetime.date(1950, 8, 9))\n",
      "('Tom Hanks', 'United States', datetime.date(1956, 7, 9))\n",
      "('Emilio Martinez Lazaro', 'Spain', datetime.date(1956, 9, 9))\n",
      "('Karra Elejalde', 'Spain', datetime.date(1960, 3, 6))\n",
      "('Emilio Estevez', 'United States', datetime.date(1962, 5, 12))\n",
      "('Ramón Estevez', 'United States', datetime.date(1963, 8, 7))\n",
      "('Carmen Machi', 'Spain', datetime.date(1964, 8, 9))\n",
      "('Charlie Sheen', 'United States', datetime.date(1965, 9, 3))\n",
      "('Reneé Estevez', 'United States', datetime.date(1967, 4, 2))\n",
      "('Catherine Zeta-Jones', 'Wales', datetime.date(1969, 9, 25))\n",
      "('Robert Alamo', 'Spain', datetime.date(1970, 5, 6))\n",
      "('Daniel Sanchez Arevalo', 'Spain', datetime.date(1970, 6, 8))\n",
      "('Quim Gutierrez', 'Spain', datetime.date(1981, 3, 27))\n",
      "('Veronica Echegui', 'Spain', datetime.date(1983, 3, 14))\n",
      "('Taylor Levi Estevez', 'United States', datetime.date(1984, 6, 22))\n",
      "('Dani Rovira', 'Spain', datetime.date(1984, 7, 1))\n",
      "('Paula Speert Sheen', 'United States', datetime.date(1986, 1, 6))\n",
      "('Paloma Rae Estevez', 'United States', datetime.date(1986, 2, 15))\n",
      "('Clara Lago', 'Spain', datetime.date(1986, 4, 17))\n",
      "('Patrick Criado', 'Spain', datetime.date(1995, 9, 23))\n",
      "('Paula Jones-Sheen', 'United States', datetime.date(2003, 7, 6))\n",
      "('Sam Sheen', 'United States', datetime.date(2004, 3, 9))\n",
      "('Lola Sheen', 'United States', datetime.date(2005, 6, 1))\n",
      "('Bob Sheen', 'United States', datetime.date(2009, 5, 1))\n",
      "('Max Sheen', 'United States', datetime.date(2009, 5, 1))\n"
     ]
    }
   ],
   "source": [
    "mycursor.execute(\"Select person_name as nombre, person_country as país, person_dob as fecha_nacimiento from movies.tb_person where person_dod is null order by person_dob;\")\n",
    "\n",
    "myresult = mycursor.fetchall()\n",
    "\n",
    "for(x) in myresult:\n",
    "    print(x)"
   ]
  },
  {
   "cell_type": "markdown",
   "metadata": {},
   "source": [
    "<h1>Ejercicio 3</h1>\n",
    "<b><u>Instrucción</u></b> Tienes que obtener el nombre del género y el número total de películas de ese género y ordenarlo por orden descendente de número total de películas. "
   ]
  },
  {
   "cell_type": "code",
   "execution_count": 4,
   "metadata": {},
   "outputs": [
    {
     "name": "stdout",
     "output_type": "stream",
     "text": [
      "('Comedia', 3)\n",
      "('Acción', 2)\n",
      "('Ciencia Ficción', 2)\n",
      "('Drama', 2)\n",
      "('Romance', 2)\n",
      "('Suspense', 2)\n",
      "('Fantasía', 1)\n",
      "('Terror', 1)\n",
      "('Bélico', 1)\n"
     ]
    }
   ],
   "source": [
    "mycursor.execute(\"Select tb_genre.genre_name as Genero, count(tb_movie.movie_id) as Peliculas_por_genero from tb_movie left join tb_genre on tb_movie.movie_genre_id = tb_genre.genre_id group by movie_genre_id order by peliculas_por_genero desc\")\n",
    "\n",
    "myresult = mycursor.fetchall()\n",
    "\n",
    "for(x) in myresult:\n",
    "    print(x)"
   ]
  },
  {
   "cell_type": "markdown",
   "metadata": {},
   "source": [
    "<h1>Ejercicio 4.1</h1>\n",
    "<b><u>Instrucción</u></b> Tienes que obtener, para cada persona, su nombre y el número máximo de roles distintos que ha tenido en una misma película.  "
   ]
  },
  {
   "cell_type": "code",
   "execution_count": 5,
   "metadata": {},
   "outputs": [
    {
     "name": "stdout",
     "output_type": "stream",
     "text": [
      "('Steven Spielberg', 5)\n",
      "('Francis Ford Coppola', 3)\n",
      "('Alfred Joseph Hitchcock', 3)\n",
      "('Harrison Ford', 3)\n",
      "('George Lucas', 3)\n",
      "('Emilio Martinez Lazaro', 3)\n",
      "('Carmen Machi', 2)\n",
      "('Karra Elejalde', 2)\n",
      "('Daniel Sanchez Arevalo', 2)\n",
      "('Dani Rovira', 2)\n",
      "('Clara Lago', 2)\n",
      "('Mel Gibson', 2)\n",
      "('Marlon Brando', 1)\n",
      "('Robert Duvall', 1)\n",
      "('Martin Sheen', 1)\n",
      "('Gary Kurtz', 1)\n",
      "('John Williams', 1)\n",
      "('Tom Hanks', 1)\n",
      "('Catherine Zeta-Jones', 1)\n",
      "('Anthony Perkins', 1)\n",
      "('Vera Miles', 1)\n",
      "('Quim Gutierrez', 1)\n",
      "('Robert Alamo', 1)\n",
      "('Hector Colome', 1)\n",
      "('Veronica Echegui', 1)\n",
      "('Patrick Criado', 1)\n",
      "('Carmine Coppola', 1)\n",
      "('Morgan Freeman', 1)\n",
      "('Tim Robbins', 1)\n",
      "('Charlie Sheen', 1)\n",
      "('Sean Connery', 0)\n",
      "('Emilio Estevez', 0)\n",
      "('Ramón Estevez', 0)\n",
      "('Reneé Estevez', 0)\n",
      "('Paula Speert Sheen', 0)\n",
      "('Bob Sheen', 0)\n",
      "('Max Sheen', 0)\n",
      "('Sam Sheen', 0)\n",
      "('Lola Sheen', 0)\n",
      "('Paula Jones-Sheen', 0)\n",
      "('Paloma Rae Estevez', 0)\n",
      "('Taylor Levi Estevez', 0)\n"
     ]
    }
   ],
   "source": [
    "mycursor.execute(\"Select tb_person.person_name as Nombre, count(tb_movie_person.role_id) as Roles from tb_person Left join tb_movie_person on tb_person.person_id=tb_movie_person.person_id group by Nombre order by Roles desc\")\n",
    "\n",
    "myresult = mycursor.fetchall()\n",
    "\n",
    "for(x) in myresult:\n",
    "    print(x)"
   ]
  },
  {
   "cell_type": "markdown",
   "metadata": {},
   "source": [
    "<h1>Ejercicio 4.2</h1>\n",
    "<b><u>Instrucción</u></b> Posteriormente, muestra únicamente a aquellas personas que hayan asumido más de un rol en una misma película.  "
   ]
  },
  {
   "cell_type": "code",
   "execution_count": 6,
   "metadata": {},
   "outputs": [
    {
     "name": "stdout",
     "output_type": "stream",
     "text": [
      "('Steven Spielberg', 5)\n",
      "('Francis Ford Coppola', 3)\n",
      "('Harrison Ford', 3)\n",
      "('George Lucas', 3)\n",
      "('Alfred Joseph Hitchcock', 3)\n",
      "('Emilio Martinez Lazaro', 3)\n",
      "('Dani Rovira', 2)\n",
      "('Clara Lago', 2)\n",
      "('Carmen Machi', 2)\n",
      "('Karra Elejalde', 2)\n",
      "('Daniel Sanchez Arevalo', 2)\n",
      "('Mel Gibson', 2)\n"
     ]
    }
   ],
   "source": [
    "mycursor.execute(\"Select tb_person.person_name as Nombre, count(tb_movie_person.role_id) as Roles from tb_person Left join tb_movie_person on tb_person.person_id=tb_movie_person.person_id group by Nombre having Roles>1 order by Roles desc\")\n",
    "\n",
    "myresult = mycursor.fetchall()\n",
    "\n",
    "for(x) in myresult:\n",
    "    print(x)"
   ]
  },
  {
   "cell_type": "markdown",
   "metadata": {},
   "source": [
    "<h1>Ejercicio 5</h1>\n",
    "<b><u>Instrucción</u></b> Debes crear un nuevo género llamado \"Documental\" que tenga como identificador el número 69."
   ]
  },
  {
   "cell_type": "code",
   "execution_count": 7,
   "metadata": {},
   "outputs": [
    {
     "name": "stdout",
     "output_type": "stream",
     "text": [
      "1 record inserted.\n"
     ]
    }
   ],
   "source": [
    "sql = \"INSERT INTO movies.tb_genre (genre_id, genre_name) VALUES (%s, %s)\"\n",
    "val = (69, \"Documental\")\n",
    "\n",
    "mycursor.execute(sql, val)\n",
    "\n",
    "mydb.commit()\n",
    "\n",
    "print(mycursor.rowcount,\"record inserted.\")"
   ]
  },
  {
   "cell_type": "markdown",
   "metadata": {},
   "source": [
    "<h1>Ejercicio 6</h1>\n",
    "<b><u>Instrucción</u></b> Elimina la película \"La Gran Familia Española\" de la base de datos."
   ]
  },
  {
   "cell_type": "code",
   "execution_count": null,
   "metadata": {},
   "outputs": [],
   "source": []
  },
  {
   "cell_type": "markdown",
   "metadata": {},
   "source": [
    "<h1>Ejercicio 7</h1>\n",
    "<b><u>Instrucción</u></b> Cambia el género de la película \"Ocho apellidos catalanes\" para que conste como comedia y no como romántica."
   ]
  },
  {
   "cell_type": "code",
   "execution_count": null,
   "metadata": {},
   "outputs": [],
   "source": []
  }
 ],
 "metadata": {
  "kernelspec": {
   "display_name": "base",
   "language": "python",
   "name": "python3"
  },
  "language_info": {
   "codemirror_mode": {
    "name": "ipython",
    "version": 3
   },
   "file_extension": ".py",
   "mimetype": "text/x-python",
   "name": "python",
   "nbconvert_exporter": "python",
   "pygments_lexer": "ipython3",
   "version": "3.11.5"
  },
  "orig_nbformat": 4
 },
 "nbformat": 4,
 "nbformat_minor": 2
}
