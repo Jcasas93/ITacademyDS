{
 "cells": [
  {
   "cell_type": "markdown",
   "metadata": {},
   "source": [
    "<h1><u>Sprint 4</u> : Visualización gráfica de datos </h1> \n",
    "\n",
    "<h1><b>Tasca 02 </b></h1>\n",
    "\n",
    "<h3>Visualización gráfica de múltiples variables.</h3>\n",
    "\n",
    "<h2>Ejercicio 1</h2>\n",
    "<b><u>Instrucción</u></b> Realiza la práctica del notebook en GitHub \" 03 EXAMINING DATA \" (haz una copia y ejecuta los comandos con el mismo dataset county.txt). Este ejercicio consiste en observar las distintas posibilidades que ofrecen las diferentes librerías de visualización gráfica.\n"
   ]
  },
  {
   "cell_type": "code",
   "execution_count": null,
   "metadata": {
    "vscode": {
     "languageId": "plaintext"
    }
   },
   "outputs": [],
   "source": []
  },
  {
   "cell_type": "markdown",
   "metadata": {},
   "source": [
    "<h2>Ejercicio 2</h2>\n",
    "<b><u>Instrucción</u></b> Realiza las tareas de preprocesado y adecuación del Dataset que disponemos en el repositorio de GitHub  PRE-PROCESSING-FECHA con el objetivo de prepararlo y trabajarlo como dataframe para extraer información.\n"
   ]
  },
  {
   "cell_type": "code",
   "execution_count": null,
   "metadata": {
    "vscode": {
     "languageId": "plaintext"
    }
   },
   "outputs": [],
   "source": []
  },
  {
   "cell_type": "markdown",
   "metadata": {},
   "source": [
    "<h2>Ejercicio 3</h2>\n",
    "<b><u>Instrucción</u></b> Muestra tu creatividad. ¿Qué crees relevante mostrar del Dataset \" movies.dat \" del ejercicio anterior?\n",
    "\n",
    "- Realiza una o dos representaciones gráficas y justifica tu elección.\n"
   ]
  },
  {
   "cell_type": "code",
   "execution_count": null,
   "metadata": {
    "vscode": {
     "languageId": "plaintext"
    }
   },
   "outputs": [],
   "source": []
  }
 ],
 "metadata": {
  "language_info": {
   "name": "python"
  }
 },
 "nbformat": 4,
 "nbformat_minor": 2
}
