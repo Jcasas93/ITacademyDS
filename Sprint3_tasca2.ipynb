{
 "cells": [
  {
   "cell_type": "code",
   "execution_count": 1,
   "metadata": {
    "vscode": {
     "languageId": "powershell"
    }
   },
   "outputs": [
    {
     "name": "stdout",
     "output_type": "stream",
     "text": [
      "Requirement already satisfied: matplotlib in c:\\users\\juan\\appdata\\local\\packages\\pythonsoftwarefoundation.python.3.11_qbz5n2kfra8p0\\localcache\\local-packages\\python311\\site-packages (3.8.0)\n",
      "Requirement already satisfied: contourpy>=1.0.1 in c:\\users\\juan\\appdata\\local\\packages\\pythonsoftwarefoundation.python.3.11_qbz5n2kfra8p0\\localcache\\local-packages\\python311\\site-packages (from matplotlib) (1.1.1)\n",
      "Requirement already satisfied: cycler>=0.10 in c:\\users\\juan\\appdata\\local\\packages\\pythonsoftwarefoundation.python.3.11_qbz5n2kfra8p0\\localcache\\local-packages\\python311\\site-packages (from matplotlib) (0.12.1)\n",
      "Requirement already satisfied: fonttools>=4.22.0 in c:\\users\\juan\\appdata\\local\\packages\\pythonsoftwarefoundation.python.3.11_qbz5n2kfra8p0\\localcache\\local-packages\\python311\\site-packages (from matplotlib) (4.43.1)\n",
      "Requirement already satisfied: kiwisolver>=1.0.1 in c:\\users\\juan\\appdata\\local\\packages\\pythonsoftwarefoundation.python.3.11_qbz5n2kfra8p0\\localcache\\local-packages\\python311\\site-packages (from matplotlib) (1.4.5)\n",
      "Requirement already satisfied: numpy<2,>=1.21 in c:\\users\\juan\\appdata\\local\\packages\\pythonsoftwarefoundation.python.3.11_qbz5n2kfra8p0\\localcache\\local-packages\\python311\\site-packages (from matplotlib) (1.26.0)\n",
      "Requirement already satisfied: packaging>=20.0 in c:\\users\\juan\\appdata\\local\\packages\\pythonsoftwarefoundation.python.3.11_qbz5n2kfra8p0\\localcache\\local-packages\\python311\\site-packages (from matplotlib) (23.0)\n",
      "Requirement already satisfied: pillow>=6.2.0 in c:\\users\\juan\\appdata\\local\\packages\\pythonsoftwarefoundation.python.3.11_qbz5n2kfra8p0\\localcache\\local-packages\\python311\\site-packages (from matplotlib) (10.1.0)\n",
      "Requirement already satisfied: pyparsing>=2.3.1 in c:\\users\\juan\\appdata\\local\\packages\\pythonsoftwarefoundation.python.3.11_qbz5n2kfra8p0\\localcache\\local-packages\\python311\\site-packages (from matplotlib) (3.1.1)\n",
      "Requirement already satisfied: python-dateutil>=2.7 in c:\\users\\juan\\appdata\\local\\packages\\pythonsoftwarefoundation.python.3.11_qbz5n2kfra8p0\\localcache\\local-packages\\python311\\site-packages (from matplotlib) (2.8.2)\n",
      "Requirement already satisfied: six>=1.5 in c:\\users\\juan\\appdata\\local\\packages\\pythonsoftwarefoundation.python.3.11_qbz5n2kfra8p0\\localcache\\local-packages\\python311\\site-packages (from python-dateutil>=2.7->matplotlib) (1.16.0)\n",
      "Note: you may need to restart the kernel to use updated packages.\n"
     ]
    }
   ],
   "source": [
    "pip install matplotlib"
   ]
  },
  {
   "cell_type": "code",
   "execution_count": 2,
   "metadata": {
    "vscode": {
     "languageId": "powershell"
    }
   },
   "outputs": [
    {
     "name": "stdout",
     "output_type": "stream",
     "text": [
      "Requirement already satisfied: unicodecsv in c:\\users\\juan\\appdata\\local\\packages\\pythonsoftwarefoundation.python.3.11_qbz5n2kfra8p0\\localcache\\local-packages\\python311\\site-packages (0.14.1)\n",
      "Note: you may need to restart the kernel to use updated packages.\n"
     ]
    }
   ],
   "source": [
    "pip install unicodecsv\n"
   ]
  },
  {
   "cell_type": "code",
   "execution_count": 3,
   "metadata": {
    "vscode": {
     "languageId": "powershell"
    }
   },
   "outputs": [
    {
     "name": "stdout",
     "output_type": "stream",
     "text": [
      "Requirement already satisfied: seaborn in c:\\users\\juan\\appdata\\local\\packages\\pythonsoftwarefoundation.python.3.11_qbz5n2kfra8p0\\localcache\\local-packages\\python311\\site-packages (0.13.0)\n",
      "Requirement already satisfied: numpy!=1.24.0,>=1.20 in c:\\users\\juan\\appdata\\local\\packages\\pythonsoftwarefoundation.python.3.11_qbz5n2kfra8p0\\localcache\\local-packages\\python311\\site-packages (from seaborn) (1.26.0)\n",
      "Requirement already satisfied: pandas>=1.2 in c:\\users\\juan\\appdata\\local\\packages\\pythonsoftwarefoundation.python.3.11_qbz5n2kfra8p0\\localcache\\local-packages\\python311\\site-packages (from seaborn) (2.1.1)\n",
      "Requirement already satisfied: matplotlib!=3.6.1,>=3.3 in c:\\users\\juan\\appdata\\local\\packages\\pythonsoftwarefoundation.python.3.11_qbz5n2kfra8p0\\localcache\\local-packages\\python311\\site-packages (from seaborn) (3.8.0)\n",
      "Requirement already satisfied: contourpy>=1.0.1 in c:\\users\\juan\\appdata\\local\\packages\\pythonsoftwarefoundation.python.3.11_qbz5n2kfra8p0\\localcache\\local-packages\\python311\\site-packages (from matplotlib!=3.6.1,>=3.3->seaborn) (1.1.1)\n",
      "Requirement already satisfied: cycler>=0.10 in c:\\users\\juan\\appdata\\local\\packages\\pythonsoftwarefoundation.python.3.11_qbz5n2kfra8p0\\localcache\\local-packages\\python311\\site-packages (from matplotlib!=3.6.1,>=3.3->seaborn) (0.12.1)\n",
      "Requirement already satisfied: fonttools>=4.22.0 in c:\\users\\juan\\appdata\\local\\packages\\pythonsoftwarefoundation.python.3.11_qbz5n2kfra8p0\\localcache\\local-packages\\python311\\site-packages (from matplotlib!=3.6.1,>=3.3->seaborn) (4.43.1)\n",
      "Requirement already satisfied: kiwisolver>=1.0.1 in c:\\users\\juan\\appdata\\local\\packages\\pythonsoftwarefoundation.python.3.11_qbz5n2kfra8p0\\localcache\\local-packages\\python311\\site-packages (from matplotlib!=3.6.1,>=3.3->seaborn) (1.4.5)\n",
      "Requirement already satisfied: packaging>=20.0 in c:\\users\\juan\\appdata\\local\\packages\\pythonsoftwarefoundation.python.3.11_qbz5n2kfra8p0\\localcache\\local-packages\\python311\\site-packages (from matplotlib!=3.6.1,>=3.3->seaborn) (23.0)\n",
      "Requirement already satisfied: pillow>=6.2.0 in c:\\users\\juan\\appdata\\local\\packages\\pythonsoftwarefoundation.python.3.11_qbz5n2kfra8p0\\localcache\\local-packages\\python311\\site-packages (from matplotlib!=3.6.1,>=3.3->seaborn) (10.1.0)\n",
      "Requirement already satisfied: pyparsing>=2.3.1 in c:\\users\\juan\\appdata\\local\\packages\\pythonsoftwarefoundation.python.3.11_qbz5n2kfra8p0\\localcache\\local-packages\\python311\\site-packages (from matplotlib!=3.6.1,>=3.3->seaborn) (3.1.1)\n",
      "Requirement already satisfied: python-dateutil>=2.7 in c:\\users\\juan\\appdata\\local\\packages\\pythonsoftwarefoundation.python.3.11_qbz5n2kfra8p0\\localcache\\local-packages\\python311\\site-packages (from matplotlib!=3.6.1,>=3.3->seaborn) (2.8.2)\n",
      "Requirement already satisfied: pytz>=2020.1 in c:\\users\\juan\\appdata\\local\\packages\\pythonsoftwarefoundation.python.3.11_qbz5n2kfra8p0\\localcache\\local-packages\\python311\\site-packages (from pandas>=1.2->seaborn) (2023.3.post1)\n",
      "Requirement already satisfied: tzdata>=2022.1 in c:\\users\\juan\\appdata\\local\\packages\\pythonsoftwarefoundation.python.3.11_qbz5n2kfra8p0\\localcache\\local-packages\\python311\\site-packages (from pandas>=1.2->seaborn) (2023.3)\n",
      "Requirement already satisfied: six>=1.5 in c:\\users\\juan\\appdata\\local\\packages\\pythonsoftwarefoundation.python.3.11_qbz5n2kfra8p0\\localcache\\local-packages\\python311\\site-packages (from python-dateutil>=2.7->matplotlib!=3.6.1,>=3.3->seaborn) (1.16.0)\n",
      "Note: you may need to restart the kernel to use updated packages.\n"
     ]
    }
   ],
   "source": [
    "pip install seaborn"
   ]
  },
  {
   "cell_type": "markdown",
   "metadata": {},
   "source": [
    "<h1><u>Sprint 3</u> : Programación numérica, dataframes y análisis estadístico </h1> \n",
    "\n",
    "<h1><b>Tasca 02 </b></h1>\n",
    "\n",
    "- Introducción a la librería Pandas, a los Dataframes y los métodos.\n",
    "- Análisis exploratorio de los datos.\n",
    "\n",
    "<h2>Ejercicio 1</h2>\n",
    "<b><u>Instrucción</u></b> Descarga el data set Airlines Delay: Airline on-time statistics and delay causas y cárgalo en un Pandas Dataframe. Explora los datos que contiene, explica brevemente qué variables existen y quedate únicamente con las columnas que consideres relevantes. Justifica tu elección."
   ]
  },
  {
   "cell_type": "code",
   "execution_count": 4,
   "metadata": {},
   "outputs": [],
   "source": [
    "import unicodecsv\n",
    "import pandas as pd\n",
    "import numpy as np\n",
    "import matplotlib.pyplot as plt\n",
    "import seaborn as sns\n",
    "import datetime as dt\n",
    "from scipy import stats\n",
    "from scipy.stats import norm\n",
    "\n",
    "pd.options.display.float_format = \"{:.0f}\".format\n",
    "np.random.seed(110693)\n",
    "\n",
    "Retrasos = pd.read_csv(\"DelayedFlights.csv\",index_col=0)"
   ]
  },
  {
   "cell_type": "code",
   "execution_count": 5,
   "metadata": {},
   "outputs": [
    {
     "name": "stdout",
     "output_type": "stream",
     "text": [
      "A continuación se puede observar una lista con las columnas que tiene el data set de vuelos retrasados: \n",
      "\n",
      "Index(['Year', 'Month', 'DayofMonth', 'DayOfWeek', 'DepTime', 'CRSDepTime',\n",
      "       'ArrTime', 'CRSArrTime', 'UniqueCarrier', 'FlightNum', 'TailNum',\n",
      "       'ActualElapsedTime', 'CRSElapsedTime', 'AirTime', 'ArrDelay',\n",
      "       'DepDelay', 'Origin', 'Dest', 'Distance', 'TaxiIn', 'TaxiOut',\n",
      "       'Cancelled', 'CancellationCode', 'Diverted', 'CarrierDelay',\n",
      "       'WeatherDelay', 'NASDelay', 'SecurityDelay', 'LateAircraftDelay'],\n",
      "      dtype='object')\n",
      "\n",
      "Las variables {'Year','Month','DayofMonth','DayOfweek'} son variables enteras que representas una fecha. \n",
      "Lo ideal es aprovechar estas columnas para crear una sola columna con la fecha. \n",
      "\n",
      "Las variables con prefijo CRS tienen que ver con parámetros estimados, \n",
      "por ejemplo la hora de salida de un vuelo 'CRSDepTime', etc...\n",
      "\n",
      "La variable 'UniqueCarrier' corresponde al código único de la aerolínea que operó dicho vuelo, \n",
      "recordemos cada observación corresponde a un vuelo distinto.\n",
      "\n",
      "La variable 'ActualElapsedTime' es igual a la suma de 'AirTime' + 'TaxiIn' + 'TaxiOut'\n"
     ]
    }
   ],
   "source": [
    "# Imprimir las columnas de la BBDD, las cuales intentaremos describir y analizar para concluir si nos es útil o no cada columna para realizar un análisis interesante.\n",
    "print(\"A continuación se puede observar una lista con las columnas que tiene el data set de vuelos retrasados: \\n\\n\"+str(Retrasos.columns)+\"\\n\\nLas variables {'Year','Month','DayofMonth','DayOfweek'} son variables enteras que representas una fecha. \\nLo ideal es aprovechar estas columnas para crear una sola columna con la fecha. \\n\\nLas variables con prefijo CRS tienen que ver con parámetros estimados, \\npor ejemplo la hora de salida de un vuelo 'CRSDepTime', etc...\\n\")\n",
    "print(\"La variable 'UniqueCarrier' corresponde al código único de la aerolínea que operó dicho vuelo, \\nrecordemos cada observación corresponde a un vuelo distinto.\\n\")\n",
    "print(\"La variable 'ActualElapsedTime' es igual a la suma de 'AirTime' + 'TaxiIn' + 'TaxiOut'\")"
   ]
  },
  {
   "cell_type": "markdown",
   "metadata": {},
   "source": [
    "A continuación creamos algunas nuevas variables, y tomamos una muestra aleatoria de nuestro conjunto de datos para reducir el tamaño del dataset con el que trabajaremos."
   ]
  },
  {
   "cell_type": "code",
   "execution_count": 6,
   "metadata": {},
   "outputs": [
    {
     "name": "stdout",
     "output_type": "stream",
     "text": [
      "         Year  Month  DayofMonth  DayOfWeek  DepTime  CRSDepTime  ArrTime  \\\n",
      "1070181  2008      2          10          7     1441        1420     1705   \n",
      "3899982  2008      7          23          3     1130        1115     1342   \n",
      "6305987  2008     11          30          7     2145        2030     2225   \n",
      "800845   2008      2          23          6     1302        1253     1808   \n",
      "1497683  2008      3          29          6     1724        1650     2052   \n",
      "\n",
      "         CRSArrTime UniqueCarrier  FlightNum  ... Cancelled  CancellationCode  \\\n",
      "1070181        1720            AA        902  ...         0                 N   \n",
      "3899982        1328            US       1679  ...         0                 N   \n",
      "6305987        2055            MQ       4384  ...         0                 N   \n",
      "800845         1749            OO       6120  ...         0                 N   \n",
      "1497683        2020            DL        487  ...         0                 N   \n",
      "\n",
      "         Diverted  CarrierDelay  WeatherDelay  NASDelay SecurityDelay  \\\n",
      "1070181         0           NaN           NaN       NaN           NaN   \n",
      "3899982         0           NaN           NaN       NaN           NaN   \n",
      "6305987         0             0            24        15             0   \n",
      "800845          0             0             0         0             0   \n",
      "1497683         0             0             3         0             0   \n",
      "\n",
      "        LateAircraftDelay    DepDate  Status  \n",
      "1070181               NaN 2008-02-10       0  \n",
      "3899982               NaN 2008-07-23       0  \n",
      "6305987                51 2008-11-30       2  \n",
      "800845                 19 2008-02-23       1  \n",
      "1497683                29 2008-03-29       1  \n",
      "\n",
      "[5 rows x 31 columns]\n"
     ]
    }
   ],
   "source": [
    "# Tomaremos una muestra de 200,000 elementos para trabajar con un dataframe más chico\n",
    "r=Retrasos.sample(200000,weights=\"Distance\")\n",
    "\n",
    "# Crear una columna con la fecha del vuelo\n",
    "r['DepDate'] = pd.to_datetime(r.Year*10000+r.Month*100+r.DayofMonth,format='%Y%m%d')\n",
    "\n",
    "# Creo una columna llamada 'status', esta columna refleja si el vuelo se considera a tiempo (0), \n",
    "# ligeramente retrasado (1), muy retrasado (2), desviado (3), o cancelado (4).\n",
    "for dataset in r:\n",
    "    r.loc[r['ArrDelay'] <= 15, 'Status'] = 0\n",
    "    r.loc[r['ArrDelay'] >= 15, 'Status'] = 1\n",
    "    r.loc[r['ArrDelay'] >= 60, 'Status'] = 2\n",
    "    r.loc[r['Diverted'] == 1, 'Status'] = 3\n",
    "    r.loc[r['Cancelled'] == 1, 'Status'] = 4\n",
    "    \n",
    "print(r.head())"
   ]
  },
  {
   "cell_type": "markdown",
   "metadata": {},
   "source": [
    "Una vez creadas algunas variables adicionales que consideramos interesantes, nos deshacemos de otras que consideremos prescindibles: \n",
    "\n",
    "- Year : \"Información guardada en la variable DepDate.\"\n",
    "- DayofMonth : \"Información guardada en la variable DepDate.\"\n",
    "- DepTime : \"La información relativa a los retrasos del despegue son irrelevantes para nuestro análisis, lo importante se refleja en el retraso final, a la hora de aterrizar.\"\n",
    "- DepDelay, ArrTime, CRSArrTime, CRSElapsedTime, Diverted, Cancelled, FlightNum, TailNum : \"Todas estas variables no nos sirven para sacar conclusiones, en algunos casos sí, como (Diverted, Cancelled, y posiblemente ArrTime, pero con las variables creadas en el proceso anterior nos aseguramos de obtener la información necesaria de estas y la concentramos en la nueva variable, llamada Status.)"
   ]
  },
  {
   "cell_type": "code",
   "execution_count": 7,
   "metadata": {},
   "outputs": [
    {
     "data": {
      "text/html": [
       "<div>\n",
       "<style scoped>\n",
       "    .dataframe tbody tr th:only-of-type {\n",
       "        vertical-align: middle;\n",
       "    }\n",
       "\n",
       "    .dataframe tbody tr th {\n",
       "        vertical-align: top;\n",
       "    }\n",
       "\n",
       "    .dataframe thead th {\n",
       "        text-align: right;\n",
       "    }\n",
       "</style>\n",
       "<table border=\"1\" class=\"dataframe\">\n",
       "  <thead>\n",
       "    <tr style=\"text-align: right;\">\n",
       "      <th></th>\n",
       "      <th>Month</th>\n",
       "      <th>DayOfWeek</th>\n",
       "      <th>CRSDepTime</th>\n",
       "      <th>UniqueCarrier</th>\n",
       "      <th>ActualElapsedTime</th>\n",
       "      <th>AirTime</th>\n",
       "      <th>ArrDelay</th>\n",
       "      <th>Origin</th>\n",
       "      <th>Dest</th>\n",
       "      <th>Distance</th>\n",
       "      <th>TaxiIn</th>\n",
       "      <th>TaxiOut</th>\n",
       "      <th>CancellationCode</th>\n",
       "      <th>CarrierDelay</th>\n",
       "      <th>WeatherDelay</th>\n",
       "      <th>NASDelay</th>\n",
       "      <th>SecurityDelay</th>\n",
       "      <th>LateAircraftDelay</th>\n",
       "      <th>DepDate</th>\n",
       "      <th>Status</th>\n",
       "    </tr>\n",
       "  </thead>\n",
       "  <tbody>\n",
       "    <tr>\n",
       "      <th>1070181</th>\n",
       "      <td>2</td>\n",
       "      <td>7</td>\n",
       "      <td>1420</td>\n",
       "      <td>AA</td>\n",
       "      <td>144</td>\n",
       "      <td>130</td>\n",
       "      <td>-15</td>\n",
       "      <td>MIA</td>\n",
       "      <td>JFK</td>\n",
       "      <td>1090</td>\n",
       "      <td>4</td>\n",
       "      <td>10</td>\n",
       "      <td>N</td>\n",
       "      <td>NaN</td>\n",
       "      <td>NaN</td>\n",
       "      <td>NaN</td>\n",
       "      <td>NaN</td>\n",
       "      <td>NaN</td>\n",
       "      <td>2008-02-10</td>\n",
       "      <td>0</td>\n",
       "    </tr>\n",
       "    <tr>\n",
       "      <th>3899982</th>\n",
       "      <td>7</td>\n",
       "      <td>3</td>\n",
       "      <td>1115</td>\n",
       "      <td>US</td>\n",
       "      <td>132</td>\n",
       "      <td>105</td>\n",
       "      <td>14</td>\n",
       "      <td>BOS</td>\n",
       "      <td>CLT</td>\n",
       "      <td>728</td>\n",
       "      <td>4</td>\n",
       "      <td>23</td>\n",
       "      <td>N</td>\n",
       "      <td>NaN</td>\n",
       "      <td>NaN</td>\n",
       "      <td>NaN</td>\n",
       "      <td>NaN</td>\n",
       "      <td>NaN</td>\n",
       "      <td>2008-07-23</td>\n",
       "      <td>0</td>\n",
       "    </tr>\n",
       "    <tr>\n",
       "      <th>6305987</th>\n",
       "      <td>11</td>\n",
       "      <td>7</td>\n",
       "      <td>2030</td>\n",
       "      <td>MQ</td>\n",
       "      <td>100</td>\n",
       "      <td>66</td>\n",
       "      <td>90</td>\n",
       "      <td>SDF</td>\n",
       "      <td>ORD</td>\n",
       "      <td>286</td>\n",
       "      <td>24</td>\n",
       "      <td>10</td>\n",
       "      <td>N</td>\n",
       "      <td>0</td>\n",
       "      <td>24</td>\n",
       "      <td>15</td>\n",
       "      <td>0</td>\n",
       "      <td>51</td>\n",
       "      <td>2008-11-30</td>\n",
       "      <td>2</td>\n",
       "    </tr>\n",
       "    <tr>\n",
       "      <th>800845</th>\n",
       "      <td>2</td>\n",
       "      <td>6</td>\n",
       "      <td>1253</td>\n",
       "      <td>OO</td>\n",
       "      <td>186</td>\n",
       "      <td>156</td>\n",
       "      <td>19</td>\n",
       "      <td>DEN</td>\n",
       "      <td>PIT</td>\n",
       "      <td>1290</td>\n",
       "      <td>7</td>\n",
       "      <td>23</td>\n",
       "      <td>N</td>\n",
       "      <td>0</td>\n",
       "      <td>0</td>\n",
       "      <td>0</td>\n",
       "      <td>0</td>\n",
       "      <td>19</td>\n",
       "      <td>2008-02-23</td>\n",
       "      <td>1</td>\n",
       "    </tr>\n",
       "    <tr>\n",
       "      <th>1497683</th>\n",
       "      <td>3</td>\n",
       "      <td>6</td>\n",
       "      <td>1650</td>\n",
       "      <td>DL</td>\n",
       "      <td>208</td>\n",
       "      <td>188</td>\n",
       "      <td>32</td>\n",
       "      <td>ATL</td>\n",
       "      <td>SJU</td>\n",
       "      <td>1547</td>\n",
       "      <td>6</td>\n",
       "      <td>14</td>\n",
       "      <td>N</td>\n",
       "      <td>0</td>\n",
       "      <td>3</td>\n",
       "      <td>0</td>\n",
       "      <td>0</td>\n",
       "      <td>29</td>\n",
       "      <td>2008-03-29</td>\n",
       "      <td>1</td>\n",
       "    </tr>\n",
       "  </tbody>\n",
       "</table>\n",
       "</div>"
      ],
      "text/plain": [
       "         Month  DayOfWeek  CRSDepTime UniqueCarrier  ActualElapsedTime  \\\n",
       "1070181      2          7        1420            AA                144   \n",
       "3899982      7          3        1115            US                132   \n",
       "6305987     11          7        2030            MQ                100   \n",
       "800845       2          6        1253            OO                186   \n",
       "1497683      3          6        1650            DL                208   \n",
       "\n",
       "         AirTime  ArrDelay Origin Dest  Distance  TaxiIn  TaxiOut  \\\n",
       "1070181      130       -15    MIA  JFK      1090       4       10   \n",
       "3899982      105        14    BOS  CLT       728       4       23   \n",
       "6305987       66        90    SDF  ORD       286      24       10   \n",
       "800845       156        19    DEN  PIT      1290       7       23   \n",
       "1497683      188        32    ATL  SJU      1547       6       14   \n",
       "\n",
       "        CancellationCode  CarrierDelay  WeatherDelay  NASDelay  SecurityDelay  \\\n",
       "1070181                N           NaN           NaN       NaN            NaN   \n",
       "3899982                N           NaN           NaN       NaN            NaN   \n",
       "6305987                N             0            24        15              0   \n",
       "800845                 N             0             0         0              0   \n",
       "1497683                N             0             3         0              0   \n",
       "\n",
       "         LateAircraftDelay    DepDate  Status  \n",
       "1070181                NaN 2008-02-10       0  \n",
       "3899982                NaN 2008-07-23       0  \n",
       "6305987                 51 2008-11-30       2  \n",
       "800845                  19 2008-02-23       1  \n",
       "1497683                 29 2008-03-29       1  "
      ]
     },
     "execution_count": 7,
     "metadata": {},
     "output_type": "execute_result"
    }
   ],
   "source": [
    "#Cancellation cause\n",
    "r.loc[r['CancellationCode'] =='A', 'CancellationCode'] = 0\n",
    "r.loc[r['CancellationCode'] =='B', 'CancellationCode'] = 1\n",
    "r.loc[r['CancellationCode'] =='C', 'CancellationCode'] = 2\n",
    "\n",
    "# proceso de deshacernos de las columnas que consideramos innecesarias.\n",
    "r = r.drop(columns=['Year','DayofMonth','DepTime','DepDelay','ArrTime','CRSArrTime','CRSElapsedTime','Diverted','Cancelled','FlightNum','TailNum']) #Converted to date\n",
    "# r = r.drop('DayofMonth',1)\n",
    "# r = r.drop('DepTime',1) \n",
    "r.head(5)"
   ]
  },
  {
   "cell_type": "code",
   "execution_count": 8,
   "metadata": {},
   "outputs": [
    {
     "name": "stdout",
     "output_type": "stream",
     "text": [
      "A continuación podemos observar la lista de las variables con las que trabajaremos a partir de los \n",
      "cambios anteriores para el dataframe delayedflights.csv : \n",
      "\n",
      "Index(['Month', 'DayOfWeek', 'CRSDepTime', 'UniqueCarrier',\n",
      "       'ActualElapsedTime', 'AirTime', 'ArrDelay', 'Origin', 'Dest',\n",
      "       'Distance', 'TaxiIn', 'TaxiOut', 'CancellationCode', 'CarrierDelay',\n",
      "       'WeatherDelay', 'NASDelay', 'SecurityDelay', 'LateAircraftDelay',\n",
      "       'DepDate', 'Status'],\n",
      "      dtype='object')\n"
     ]
    }
   ],
   "source": [
    "print('A continuación podemos observar la lista de las variables con las que trabajaremos a partir de los \\ncambios anteriores para el dataframe delayedflights.csv : \\n\\n'+str(r.columns))"
   ]
  },
  {
   "cell_type": "markdown",
   "metadata": {},
   "source": [
    "<h2>Ejercicio 2</h2>\n",
    "<b><u>Instrucción</u></b> Haz un informe completo del dataset:\n",
    "\n",
    "- Resume estadísticamente el dataset y las columnas de interés. Haz un análisis estadístico de lo que consideres relevante.\n",
    "- Encuentra cuántos datos faltantes hay por columna.\n",
    "- Crea nuevas columnas (velocidad media del vuelo, si ha llegado tarde o no...).\n",
    "- Haz una tabla de las aerolíneas con mayores retrasos acumulados.\n",
    "- ¿Cuáles son los vuelos más largos? ¿Y los más atrasados? Busca las rutas más largas y las que acumulen más retrasos.\n",
    "- Aporta lo que consideres relevante."
   ]
  },
  {
   "cell_type": "code",
   "execution_count": 9,
   "metadata": {},
   "outputs": [
    {
     "data": {
      "text/html": [
       "<div>\n",
       "<style scoped>\n",
       "    .dataframe tbody tr th:only-of-type {\n",
       "        vertical-align: middle;\n",
       "    }\n",
       "\n",
       "    .dataframe tbody tr th {\n",
       "        vertical-align: top;\n",
       "    }\n",
       "\n",
       "    .dataframe thead th {\n",
       "        text-align: right;\n",
       "    }\n",
       "</style>\n",
       "<table border=\"1\" class=\"dataframe\">\n",
       "  <thead>\n",
       "    <tr style=\"text-align: right;\">\n",
       "      <th></th>\n",
       "      <th>Month</th>\n",
       "      <th>DayOfWeek</th>\n",
       "      <th>CRSDepTime</th>\n",
       "      <th>ActualElapsedTime</th>\n",
       "      <th>AirTime</th>\n",
       "      <th>ArrDelay</th>\n",
       "      <th>Distance</th>\n",
       "      <th>TaxiIn</th>\n",
       "      <th>TaxiOut</th>\n",
       "      <th>CarrierDelay</th>\n",
       "      <th>WeatherDelay</th>\n",
       "      <th>NASDelay</th>\n",
       "      <th>SecurityDelay</th>\n",
       "      <th>LateAircraftDelay</th>\n",
       "      <th>DepDate</th>\n",
       "      <th>Status</th>\n",
       "    </tr>\n",
       "  </thead>\n",
       "  <tbody>\n",
       "    <tr>\n",
       "      <th>count</th>\n",
       "      <td>200000</td>\n",
       "      <td>200000</td>\n",
       "      <td>200000</td>\n",
       "      <td>199024</td>\n",
       "      <td>199024</td>\n",
       "      <td>199024</td>\n",
       "      <td>200000</td>\n",
       "      <td>199202</td>\n",
       "      <td>199967</td>\n",
       "      <td>125259</td>\n",
       "      <td>125259</td>\n",
       "      <td>125259</td>\n",
       "      <td>125259</td>\n",
       "      <td>125259</td>\n",
       "      <td>200000</td>\n",
       "      <td>200000</td>\n",
       "    </tr>\n",
       "    <tr>\n",
       "      <th>mean</th>\n",
       "      <td>6</td>\n",
       "      <td>4</td>\n",
       "      <td>1458</td>\n",
       "      <td>181</td>\n",
       "      <td>155</td>\n",
       "      <td>41</td>\n",
       "      <td>1160</td>\n",
       "      <td>7</td>\n",
       "      <td>19</td>\n",
       "      <td>20</td>\n",
       "      <td>3</td>\n",
       "      <td>16</td>\n",
       "      <td>0</td>\n",
       "      <td>25</td>\n",
       "      <td>2008-06-19 01:55:58.656000</td>\n",
       "      <td>1</td>\n",
       "    </tr>\n",
       "    <tr>\n",
       "      <th>min</th>\n",
       "      <td>1</td>\n",
       "      <td>1</td>\n",
       "      <td>1</td>\n",
       "      <td>17</td>\n",
       "      <td>2</td>\n",
       "      <td>-67</td>\n",
       "      <td>49</td>\n",
       "      <td>0</td>\n",
       "      <td>0</td>\n",
       "      <td>0</td>\n",
       "      <td>0</td>\n",
       "      <td>0</td>\n",
       "      <td>0</td>\n",
       "      <td>0</td>\n",
       "      <td>2008-01-01 00:00:00</td>\n",
       "      <td>0</td>\n",
       "    </tr>\n",
       "    <tr>\n",
       "      <th>25%</th>\n",
       "      <td>3</td>\n",
       "      <td>2</td>\n",
       "      <td>1125</td>\n",
       "      <td>116</td>\n",
       "      <td>91</td>\n",
       "      <td>7</td>\n",
       "      <td>617</td>\n",
       "      <td>4</td>\n",
       "      <td>11</td>\n",
       "      <td>0</td>\n",
       "      <td>0</td>\n",
       "      <td>0</td>\n",
       "      <td>0</td>\n",
       "      <td>0</td>\n",
       "      <td>2008-03-19 00:00:00</td>\n",
       "      <td>0</td>\n",
       "    </tr>\n",
       "    <tr>\n",
       "      <th>50%</th>\n",
       "      <td>6</td>\n",
       "      <td>4</td>\n",
       "      <td>1500</td>\n",
       "      <td>161</td>\n",
       "      <td>135</td>\n",
       "      <td>23</td>\n",
       "      <td>989</td>\n",
       "      <td>6</td>\n",
       "      <td>15</td>\n",
       "      <td>4</td>\n",
       "      <td>0</td>\n",
       "      <td>2</td>\n",
       "      <td>0</td>\n",
       "      <td>7</td>\n",
       "      <td>2008-06-14 00:00:00</td>\n",
       "      <td>1</td>\n",
       "    </tr>\n",
       "    <tr>\n",
       "      <th>75%</th>\n",
       "      <td>9</td>\n",
       "      <td>6</td>\n",
       "      <td>1814</td>\n",
       "      <td>232</td>\n",
       "      <td>205</td>\n",
       "      <td>54</td>\n",
       "      <td>1597</td>\n",
       "      <td>8</td>\n",
       "      <td>21</td>\n",
       "      <td>21</td>\n",
       "      <td>0</td>\n",
       "      <td>16</td>\n",
       "      <td>0</td>\n",
       "      <td>32</td>\n",
       "      <td>2008-09-06 00:00:00</td>\n",
       "      <td>1</td>\n",
       "    </tr>\n",
       "    <tr>\n",
       "      <th>max</th>\n",
       "      <td>12</td>\n",
       "      <td>7</td>\n",
       "      <td>2359</td>\n",
       "      <td>750</td>\n",
       "      <td>664</td>\n",
       "      <td>2461</td>\n",
       "      <td>4962</td>\n",
       "      <td>199</td>\n",
       "      <td>342</td>\n",
       "      <td>1510</td>\n",
       "      <td>1297</td>\n",
       "      <td>890</td>\n",
       "      <td>164</td>\n",
       "      <td>1002</td>\n",
       "      <td>2008-12-31 00:00:00</td>\n",
       "      <td>4</td>\n",
       "    </tr>\n",
       "    <tr>\n",
       "      <th>std</th>\n",
       "      <td>3</td>\n",
       "      <td>2</td>\n",
       "      <td>433</td>\n",
       "      <td>87</td>\n",
       "      <td>84</td>\n",
       "      <td>58</td>\n",
       "      <td>707</td>\n",
       "      <td>5</td>\n",
       "      <td>15</td>\n",
       "      <td>45</td>\n",
       "      <td>20</td>\n",
       "      <td>34</td>\n",
       "      <td>2</td>\n",
       "      <td>43</td>\n",
       "      <td>NaN</td>\n",
       "      <td>1</td>\n",
       "    </tr>\n",
       "  </tbody>\n",
       "</table>\n",
       "</div>"
      ],
      "text/plain": [
       "       Month  DayOfWeek  CRSDepTime  ActualElapsedTime  AirTime  ArrDelay  \\\n",
       "count 200000     200000      200000             199024   199024    199024   \n",
       "mean       6          4        1458                181      155        41   \n",
       "min        1          1           1                 17        2       -67   \n",
       "25%        3          2        1125                116       91         7   \n",
       "50%        6          4        1500                161      135        23   \n",
       "75%        9          6        1814                232      205        54   \n",
       "max       12          7        2359                750      664      2461   \n",
       "std        3          2         433                 87       84        58   \n",
       "\n",
       "       Distance  TaxiIn  TaxiOut  CarrierDelay  WeatherDelay  NASDelay  \\\n",
       "count    200000  199202   199967        125259        125259    125259   \n",
       "mean       1160       7       19            20             3        16   \n",
       "min          49       0        0             0             0         0   \n",
       "25%         617       4       11             0             0         0   \n",
       "50%         989       6       15             4             0         2   \n",
       "75%        1597       8       21            21             0        16   \n",
       "max        4962     199      342          1510          1297       890   \n",
       "std         707       5       15            45            20        34   \n",
       "\n",
       "       SecurityDelay  LateAircraftDelay                     DepDate  Status  \n",
       "count         125259             125259                      200000  200000  \n",
       "mean               0                 25  2008-06-19 01:55:58.656000       1  \n",
       "min                0                  0         2008-01-01 00:00:00       0  \n",
       "25%                0                  0         2008-03-19 00:00:00       0  \n",
       "50%                0                  7         2008-06-14 00:00:00       1  \n",
       "75%                0                 32         2008-09-06 00:00:00       1  \n",
       "max              164               1002         2008-12-31 00:00:00       4  \n",
       "std                2                 43                         NaN       1  "
      ]
     },
     "execution_count": 9,
     "metadata": {},
     "output_type": "execute_result"
    }
   ],
   "source": [
    "# Para resumir estadísticamente el dataset utilizaremos la función describe()\n",
    "r.describe()"
   ]
  },
  {
   "cell_type": "code",
   "execution_count": 10,
   "metadata": {},
   "outputs": [
    {
     "name": "stdout",
     "output_type": "stream",
     "text": [
      "Primero vemos que de la muestra de 200,000 vuelos \n",
      "\n",
      "un 36.882500% de los vuelos llegaron a tiempo, \n",
      "un 40.109500% de los vuelos estuvieron ligeramente retrasados, \n",
      "un 22.520000% de los vuelos estuvieron muy retrasados, \n",
      "un 0.464000% de los vuelos fueron desviados, \n",
      "un 0.024000% de los vuelos fueron cancelados.\n",
      "\n",
      "Lo que representa 48 vuelos cancelados, más adelante decidiremos qué hacer con estos vuelos.\n"
     ]
    }
   ],
   "source": [
    "# Analizamos la proporción de vuelos por estatus.\n",
    "print(\"Primero vemos que de la muestra de 200,000 vuelos \\n\\nun\"+str(format(np.round((len(r[r['Status']==0])/len(r)),10),' %'))+\" de los vuelos llegaron a tiempo, \\nun\"+str(format(np.round((len(r[r['Status']==1])/len(r)),10),' %'))+\" de los vuelos estuvieron ligeramente retrasados, \\nun\"+str(format(np.round((len(r[r['Status']==2])/len(r)),10),' %'))+\" de los vuelos estuvieron muy retrasados, \\nun\"+str(format(np.round((len(r[r['Status']==3])/len(r)),10),' %'))+\" de los vuelos fueron desviados, \\nun\"+str(format(np.round((len(r[r['Status']==4])/len(r)),10),' %'))+\" de los vuelos fueron cancelados.\\n\\nLo que representa \"+str(len(r[r['Status']==4]))+\" vuelos cancelados, más adelante decidiremos qué hacer con estos vuelos.\")"
   ]
  },
  {
   "cell_type": "markdown",
   "metadata": {},
   "source": [
    "Como podemos observar, de los motivos que pueden ocasionar un retraso de un vuelo, vemos que el retraso causado directamente por la aerolínea en términos generales tiene un mayor impacto en el tiempo de retraso, es la variable que presente el retraso máximo de la muestra y el presenta el segundo mayor retraso promedio seguido de LateAircraftDelay.\n",
    "\n",
    "- Encuentra cuántos datos faltantes hay por columna."
   ]
  },
  {
   "cell_type": "code",
   "execution_count": 11,
   "metadata": {},
   "outputs": [
    {
     "name": "stdout",
     "output_type": "stream",
     "text": [
      "A continuación podemos observar una tabla con la totalidad de datos faltantes por columna en nuestro dataset reducido 'r'\n",
      "\n",
      "Month                    0\n",
      "DayOfWeek                0\n",
      "CRSDepTime               0\n",
      "UniqueCarrier            0\n",
      "ActualElapsedTime      976\n",
      "AirTime                976\n",
      "ArrDelay               976\n",
      "Origin                   0\n",
      "Dest                     0\n",
      "Distance                 0\n",
      "TaxiIn                 798\n",
      "TaxiOut                 33\n",
      "CancellationCode         0\n",
      "CarrierDelay         74741\n",
      "WeatherDelay         74741\n",
      "NASDelay             74741\n",
      "SecurityDelay        74741\n",
      "LateAircraftDelay    74741\n",
      "DepDate                  0\n",
      "Status                   0\n",
      "dtype: int64\n"
     ]
    }
   ],
   "source": [
    "# Analizaré a continuación cuantos datos faltantes tenemos en la muestra elegida.\n",
    "print(\"A continuación podemos observar una tabla con la totalidad de datos faltantes por columna en nuestro dataset reducido 'r'\\n\\n\"+str(r.isna().sum()))"
   ]
  },
  {
   "cell_type": "markdown",
   "metadata": {},
   "source": [
    "- Crea nuevas columnas (velocidad media del vuelo, si ha llegado tarde o no...)."
   ]
  },
  {
   "cell_type": "code",
   "execution_count": 12,
   "metadata": {},
   "outputs": [
    {
     "data": {
      "text/html": [
       "<div>\n",
       "<style scoped>\n",
       "    .dataframe tbody tr th:only-of-type {\n",
       "        vertical-align: middle;\n",
       "    }\n",
       "\n",
       "    .dataframe tbody tr th {\n",
       "        vertical-align: top;\n",
       "    }\n",
       "\n",
       "    .dataframe thead th {\n",
       "        text-align: right;\n",
       "    }\n",
       "</style>\n",
       "<table border=\"1\" class=\"dataframe\">\n",
       "  <thead>\n",
       "    <tr style=\"text-align: right;\">\n",
       "      <th></th>\n",
       "      <th>Month</th>\n",
       "      <th>DayOfWeek</th>\n",
       "      <th>CRSDepTime</th>\n",
       "      <th>UniqueCarrier</th>\n",
       "      <th>ActualElapsedTime</th>\n",
       "      <th>AirTime</th>\n",
       "      <th>ArrDelay</th>\n",
       "      <th>Origin</th>\n",
       "      <th>Dest</th>\n",
       "      <th>Distance</th>\n",
       "      <th>...</th>\n",
       "      <th>TaxiOut</th>\n",
       "      <th>CancellationCode</th>\n",
       "      <th>CarrierDelay</th>\n",
       "      <th>WeatherDelay</th>\n",
       "      <th>NASDelay</th>\n",
       "      <th>SecurityDelay</th>\n",
       "      <th>LateAircraftDelay</th>\n",
       "      <th>DepDate</th>\n",
       "      <th>Status</th>\n",
       "      <th>Velocity</th>\n",
       "    </tr>\n",
       "  </thead>\n",
       "  <tbody>\n",
       "    <tr>\n",
       "      <th>1070181</th>\n",
       "      <td>2</td>\n",
       "      <td>7</td>\n",
       "      <td>1420</td>\n",
       "      <td>AA</td>\n",
       "      <td>144</td>\n",
       "      <td>130</td>\n",
       "      <td>-15</td>\n",
       "      <td>MIA</td>\n",
       "      <td>JFK</td>\n",
       "      <td>1090</td>\n",
       "      <td>...</td>\n",
       "      <td>10</td>\n",
       "      <td>N</td>\n",
       "      <td>NaN</td>\n",
       "      <td>NaN</td>\n",
       "      <td>NaN</td>\n",
       "      <td>NaN</td>\n",
       "      <td>NaN</td>\n",
       "      <td>2008-02-10</td>\n",
       "      <td>0</td>\n",
       "      <td>503</td>\n",
       "    </tr>\n",
       "    <tr>\n",
       "      <th>3899982</th>\n",
       "      <td>7</td>\n",
       "      <td>3</td>\n",
       "      <td>1115</td>\n",
       "      <td>US</td>\n",
       "      <td>132</td>\n",
       "      <td>105</td>\n",
       "      <td>14</td>\n",
       "      <td>BOS</td>\n",
       "      <td>CLT</td>\n",
       "      <td>728</td>\n",
       "      <td>...</td>\n",
       "      <td>23</td>\n",
       "      <td>N</td>\n",
       "      <td>NaN</td>\n",
       "      <td>NaN</td>\n",
       "      <td>NaN</td>\n",
       "      <td>NaN</td>\n",
       "      <td>NaN</td>\n",
       "      <td>2008-07-23</td>\n",
       "      <td>0</td>\n",
       "      <td>416</td>\n",
       "    </tr>\n",
       "    <tr>\n",
       "      <th>6305987</th>\n",
       "      <td>11</td>\n",
       "      <td>7</td>\n",
       "      <td>2030</td>\n",
       "      <td>MQ</td>\n",
       "      <td>100</td>\n",
       "      <td>66</td>\n",
       "      <td>90</td>\n",
       "      <td>SDF</td>\n",
       "      <td>ORD</td>\n",
       "      <td>286</td>\n",
       "      <td>...</td>\n",
       "      <td>10</td>\n",
       "      <td>N</td>\n",
       "      <td>0</td>\n",
       "      <td>24</td>\n",
       "      <td>15</td>\n",
       "      <td>0</td>\n",
       "      <td>51</td>\n",
       "      <td>2008-11-30</td>\n",
       "      <td>2</td>\n",
       "      <td>260</td>\n",
       "    </tr>\n",
       "    <tr>\n",
       "      <th>800845</th>\n",
       "      <td>2</td>\n",
       "      <td>6</td>\n",
       "      <td>1253</td>\n",
       "      <td>OO</td>\n",
       "      <td>186</td>\n",
       "      <td>156</td>\n",
       "      <td>19</td>\n",
       "      <td>DEN</td>\n",
       "      <td>PIT</td>\n",
       "      <td>1290</td>\n",
       "      <td>...</td>\n",
       "      <td>23</td>\n",
       "      <td>N</td>\n",
       "      <td>0</td>\n",
       "      <td>0</td>\n",
       "      <td>0</td>\n",
       "      <td>0</td>\n",
       "      <td>19</td>\n",
       "      <td>2008-02-23</td>\n",
       "      <td>1</td>\n",
       "      <td>496</td>\n",
       "    </tr>\n",
       "    <tr>\n",
       "      <th>1497683</th>\n",
       "      <td>3</td>\n",
       "      <td>6</td>\n",
       "      <td>1650</td>\n",
       "      <td>DL</td>\n",
       "      <td>208</td>\n",
       "      <td>188</td>\n",
       "      <td>32</td>\n",
       "      <td>ATL</td>\n",
       "      <td>SJU</td>\n",
       "      <td>1547</td>\n",
       "      <td>...</td>\n",
       "      <td>14</td>\n",
       "      <td>N</td>\n",
       "      <td>0</td>\n",
       "      <td>3</td>\n",
       "      <td>0</td>\n",
       "      <td>0</td>\n",
       "      <td>29</td>\n",
       "      <td>2008-03-29</td>\n",
       "      <td>1</td>\n",
       "      <td>494</td>\n",
       "    </tr>\n",
       "  </tbody>\n",
       "</table>\n",
       "<p>5 rows × 21 columns</p>\n",
       "</div>"
      ],
      "text/plain": [
       "         Month  DayOfWeek  CRSDepTime UniqueCarrier  ActualElapsedTime  \\\n",
       "1070181      2          7        1420            AA                144   \n",
       "3899982      7          3        1115            US                132   \n",
       "6305987     11          7        2030            MQ                100   \n",
       "800845       2          6        1253            OO                186   \n",
       "1497683      3          6        1650            DL                208   \n",
       "\n",
       "         AirTime  ArrDelay Origin Dest  Distance  ...  TaxiOut  \\\n",
       "1070181      130       -15    MIA  JFK      1090  ...       10   \n",
       "3899982      105        14    BOS  CLT       728  ...       23   \n",
       "6305987       66        90    SDF  ORD       286  ...       10   \n",
       "800845       156        19    DEN  PIT      1290  ...       23   \n",
       "1497683      188        32    ATL  SJU      1547  ...       14   \n",
       "\n",
       "         CancellationCode CarrierDelay  WeatherDelay  NASDelay  SecurityDelay  \\\n",
       "1070181                 N          NaN           NaN       NaN            NaN   \n",
       "3899982                 N          NaN           NaN       NaN            NaN   \n",
       "6305987                 N            0            24        15              0   \n",
       "800845                  N            0             0         0              0   \n",
       "1497683                 N            0             3         0              0   \n",
       "\n",
       "         LateAircraftDelay    DepDate Status  Velocity  \n",
       "1070181                NaN 2008-02-10      0       503  \n",
       "3899982                NaN 2008-07-23      0       416  \n",
       "6305987                 51 2008-11-30      2       260  \n",
       "800845                  19 2008-02-23      1       496  \n",
       "1497683                 29 2008-03-29      1       494  \n",
       "\n",
       "[5 rows x 21 columns]"
      ]
     },
     "execution_count": 12,
     "metadata": {},
     "output_type": "execute_result"
    }
   ],
   "source": [
    "# A pesar de haber creado anteriormente algunas columnas ya, crearemos una más, la de velocidad, \n",
    "# tener cuidado con las unidades. Ya que la distancia está en millas y el tiempo está en minutos. \n",
    "# Pero la velocidad la queremos en millas por hora. \n",
    "r['Velocity']=r['Distance']/r['AirTime']*60\n",
    "r.head(5)"
   ]
  },
  {
   "cell_type": "markdown",
   "metadata": {},
   "source": [
    "- Haz una tabla de las aerolíneas con mayores retrasos acumulados."
   ]
  },
  {
   "cell_type": "code",
   "execution_count": 16,
   "metadata": {},
   "outputs": [
    {
     "name": "stdout",
     "output_type": "stream",
     "text": [
      "A continuación observamos la tabla que contiene información de las 5 \n",
      "aerolíneas que tienen mayor retraso acumulado en el año 2008.\n"
     ]
    },
    {
     "data": {
      "text/plain": [
       "UniqueCarrier\n",
       "AA   1282358\n",
       "WN    954309\n",
       "UA    929416\n",
       "CO    607849\n",
       "DL    548435\n",
       "Name: (ArrDelay, sum), dtype: float64"
      ]
     },
     "execution_count": 16,
     "metadata": {},
     "output_type": "execute_result"
    }
   ],
   "source": [
    "# A continuación vamos a mostrar cuáles son las 5 aerolíneas con el mayor retraso acumulado de vuelos durante el 2008.\n",
    "print(\"A continuación observamos la tabla que contiene información de las 5 \\naerolíneas que tienen mayor retraso acumulado en el año 2008.\")\n",
    "r.groupby('UniqueCarrier').agg({'ArrDelay':{'sum','min','max'},'Distance':'max'})[('ArrDelay','sum')].sort_values(ascending=False).head(5)"
   ]
  },
  {
   "cell_type": "markdown",
   "metadata": {},
   "source": [
    "- ¿Cuáles son los vuelos más largos? ¿Y los más atrasados? Busca las rutas más largas y las que acumulen más retrasos."
   ]
  },
  {
   "cell_type": "code",
   "execution_count": 26,
   "metadata": {},
   "outputs": [
    {
     "name": "stdout",
     "output_type": "stream",
     "text": [
      "A continuación observamos una tabla con las rutas más largas, \n",
      "podemos observar el aeropuesto de origen y el aeropuesto destino.\n"
     ]
    },
    {
     "data": {
      "text/plain": [
       "Origin  Dest\n",
       "EWR     HNL     4962\n",
       "HNL     EWR     4962\n",
       "        ATL     4502\n",
       "ATL     HNL     4502\n",
       "HNL     ORD     4243\n",
       "ORD     HNL     4243\n",
       "Name: (Distance, max), dtype: int64"
      ]
     },
     "execution_count": 26,
     "metadata": {},
     "output_type": "execute_result"
    }
   ],
   "source": [
    "# A continuación vamos a mostrar cuáles son los 5 vuelos más largos.\n",
    "print(\"A continuación observamos una tabla con las rutas más largas, \\npodemos observar el aeropuesto de origen y el aeropuesto destino.\")\n",
    "r.groupby(['Origin','Dest']).agg({'ArrDelay':{'sum','min','max'},'Distance':'max'})[('Distance','max')].sort_values(ascending=False).head(6)"
   ]
  },
  {
   "cell_type": "code",
   "execution_count": 27,
   "metadata": {},
   "outputs": [
    {
     "name": "stdout",
     "output_type": "stream",
     "text": [
      "A continuación observamos una tabla con las rutas con mayor retraso acumulado, \n",
      "podemos observar el aeropuesto de origen y el aeropuesto destino.\n"
     ]
    },
    {
     "data": {
      "text/plain": [
       "Origin  Dest\n",
       "JFK     LAX    38471\n",
       "SFO     JFK    37425\n",
       "LAX     JFK    32445\n",
       "ORD     LAX    32102\n",
       "JFK     SFO    31293\n",
       "LAX     ORD    26345\n",
       "Name: (ArrDelay, sum), dtype: float64"
      ]
     },
     "execution_count": 27,
     "metadata": {},
     "output_type": "execute_result"
    }
   ],
   "source": [
    "# A continuación vamos a mostrar cuáles son los 5 vuelos con mayor retraso acumulado.\n",
    "print(\"A continuación observamos una tabla con las rutas con mayor retraso acumulado, \\npodemos observar el aeropuesto de origen y el aeropuesto destino.\")\n",
    "r.groupby(['Origin','Dest']).agg({'ArrDelay':{'sum','min','max'},'Distance':'max'})[('ArrDelay','sum')].sort_values(ascending=False).head(6)"
   ]
  },
  {
   "cell_type": "markdown",
   "metadata": {},
   "source": [
    "- Aporta lo que consideres relevante."
   ]
  },
  {
   "cell_type": "markdown",
   "metadata": {},
   "source": [
    "<h2>Ejercicio 3</h2>\n",
    "<b><u>Instrucción</u></b> Exporta el dataset limpio con las nuevas columnas a Excel."
   ]
  },
  {
   "cell_type": "code",
   "execution_count": 30,
   "metadata": {},
   "outputs": [],
   "source": [
    "r.to_csv(\"excel_procesado.csv\", index=False)"
   ]
  }
 ],
 "metadata": {
  "kernelspec": {
   "display_name": "Python 3",
   "language": "python",
   "name": "python3"
  },
  "language_info": {
   "codemirror_mode": {
    "name": "ipython",
    "version": 3
   },
   "file_extension": ".py",
   "mimetype": "text/x-python",
   "name": "python",
   "nbconvert_exporter": "python",
   "pygments_lexer": "ipython3",
   "version": "3.11.6"
  }
 },
 "nbformat": 4,
 "nbformat_minor": 2
}
